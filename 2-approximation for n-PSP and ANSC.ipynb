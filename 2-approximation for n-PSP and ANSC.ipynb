{
 "cells": [
  {
   "cell_type": "markdown",
   "id": "debf88d4",
   "metadata": {},
   "source": [
    "### 2-Approximation Algorithm for n-PSP (Using Dijkstra Algorithm)"
   ]
  },
  {
   "cell_type": "code",
   "execution_count": 1,
   "id": "4d2f1ded",
   "metadata": {},
   "outputs": [
    {
     "name": "stdout",
     "output_type": "stream",
     "text": [
      "Approximate Shortest Path: [0, 1, 3, 4]\n"
     ]
    }
   ],
   "source": [
    "import heapq\n",
    "import sys\n",
    "\n",
    "def approximate_n_path_shortest_path(graph, source, target):\n",
    "    num_vertices = len(graph)\n",
    "    visited = set()\n",
    "    distances = [sys.maxsize] * num_vertices\n",
    "    parent = [-1] * num_vertices\n",
    "    \n",
    "    # Step 1: Initialize visited set and priority queue\n",
    "    visited.add(source)\n",
    "    distances[source] = 0\n",
    "    pq = [(0, source)]\n",
    "    \n",
    "    # Step 2: Dijkstra's algorithm\n",
    "    while pq:\n",
    "        dist, current_vertex = heapq.heappop(pq)\n",
    "        \n",
    "        # Step 3: Check if target vertex is reached\n",
    "        if current_vertex == target:\n",
    "            break\n",
    "        \n",
    "        # Step 3 (continued): Explore neighbors\n",
    "        for neighbor in graph[current_vertex]:\n",
    "            edge_weight = 1  # Assuming unweighted graph\n",
    "            new_dist = dist + edge_weight\n",
    "            if new_dist < distances[neighbor]:\n",
    "                distances[neighbor] = new_dist\n",
    "                parent[neighbor] = current_vertex\n",
    "                heapq.heappush(pq, (new_dist, neighbor))\n",
    "                visited.add(neighbor)\n",
    "    \n",
    "    # Step 4: Check if target vertex is reachable\n",
    "    if parent[target] == -1:\n",
    "        return None  # No path from source to target\n",
    "    \n",
    "    # Step 5: Construct approximate shortest path\n",
    "    path = []\n",
    "    current_vertex = target\n",
    "    while current_vertex != source:\n",
    "        path.append(current_vertex)\n",
    "        current_vertex = parent[current_vertex]\n",
    "    path.append(source)\n",
    "    \n",
    "    # Step 6: Return the approximate shortest path\n",
    "    return list(reversed(path))\n",
    "\n",
    "# Example usage\n",
    "graph = [\n",
    "    [1, 2],    # Neighbors of vertex 0\n",
    "    [0, 2, 3], # Neighbors of vertex 1\n",
    "    [0, 1, 3], # Neighbors of vertex 2\n",
    "    [1, 2, 4], # Neighbors of vertex 3\n",
    "    [3]        # Neighbors of vertex 4\n",
    "]\n",
    "source = 0\n",
    "target = 4\n",
    "\n",
    "result = approximate_n_path_shortest_path(graph, source, target)\n",
    "if result is not None:\n",
    "    print(\"Approximate Shortest Path:\", result)\n",
    "else:\n",
    "    print(\"No path from source to target.\")\n"
   ]
  },
  {
   "cell_type": "markdown",
   "id": "a2a3c434",
   "metadata": {},
   "source": [
    "### 2-Approximation Algorithm for ANSC (Using DFS Algorithm)"
   ]
  },
  {
   "cell_type": "code",
   "execution_count": 2,
   "id": "fdbc46a8",
   "metadata": {},
   "outputs": [
    {
     "name": "stdout",
     "output_type": "stream",
     "text": [
      "The graph is not all-node strongly connected.\n"
     ]
    }
   ],
   "source": [
    "import random\n",
    "\n",
    "def approximate_ANSC(graph):\n",
    "    num_vertices = len(graph)\n",
    "    visited = set()\n",
    "    stack = []\n",
    "    \n",
    "    def dfs(vertex):\n",
    "        visited.add(vertex)\n",
    "        stack.append(vertex)\n",
    "        \n",
    "        while stack:\n",
    "            current_vertex = stack.pop()\n",
    "            \n",
    "            for neighbor in graph[current_vertex]:\n",
    "                if neighbor not in visited:\n",
    "                    visited.add(neighbor)\n",
    "                    stack.append(neighbor)\n",
    "    \n",
    "    # Step 2-5: Perform DFS traversal from randomly chosen unvisited vertices\n",
    "    while len(visited) < num_vertices:\n",
    "        unvisited_vertices = set(range(num_vertices)) - visited\n",
    "        random_vertex = random.choice(list(unvisited_vertices))\n",
    "        dfs(random_vertex)\n",
    "    \n",
    "    # Step 6: Perform reverse DFS traversal to identify strongly connected components\n",
    "    visited.clear()\n",
    "    strongly_connected_components = 0\n",
    "    \n",
    "    while stack:\n",
    "        current_vertex = stack.pop()\n",
    "        \n",
    "        if current_vertex not in visited:\n",
    "            dfs(current_vertex)\n",
    "            strongly_connected_components += 1\n",
    "    \n",
    "    # Step 7: Check the number of strongly connected components\n",
    "    return strongly_connected_components == 1\n",
    "\n",
    "# Example usage\n",
    "graph = [\n",
    "    [1, 2],    # Neighbors of vertex 0\n",
    "    [0, 2, 3], # Neighbors of vertex 1\n",
    "    [0, 1, 3], # Neighbors of vertex 2\n",
    "    [1, 2, 4], # Neighbors of vertex 3\n",
    "    [3]        # Neighbors of vertex 4\n",
    "]\n",
    "\n",
    "result = approximate_ANSC(graph)\n",
    "if result:\n",
    "    print(\"The graph is all-node strongly connected.\")\n",
    "else:\n",
    "    print(\"The graph is not all-node strongly connected.\")\n"
   ]
  },
  {
   "cell_type": "code",
   "execution_count": null,
   "id": "7b1021f0",
   "metadata": {},
   "outputs": [],
   "source": []
  }
 ],
 "metadata": {
  "kernelspec": {
   "display_name": "Python 3 (ipykernel)",
   "language": "python",
   "name": "python3"
  },
  "language_info": {
   "codemirror_mode": {
    "name": "ipython",
    "version": 3
   },
   "file_extension": ".py",
   "mimetype": "text/x-python",
   "name": "python",
   "nbconvert_exporter": "python",
   "pygments_lexer": "ipython3",
   "version": "3.11.1"
  }
 },
 "nbformat": 4,
 "nbformat_minor": 5
}
