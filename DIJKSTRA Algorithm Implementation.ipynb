{
 "cells": [
  {
   "cell_type": "code",
   "execution_count": 1,
   "id": "871be2c3",
   "metadata": {},
   "outputs": [
    {
     "name": "stdout",
     "output_type": "stream",
     "text": [
      "[0, 2, 6, 1]\n"
     ]
    }
   ],
   "source": [
    "import sys\n",
    "\n",
    "def dijkstra_shortest_paths(graph, source):\n",
    "    num_nodes = len(graph)\n",
    "    distances = [sys.maxsize] * num_nodes\n",
    "    distances[source] = 0\n",
    "    visited = [False] * num_nodes\n",
    "\n",
    "    for _ in range(num_nodes):\n",
    "        min_dist = sys.maxsize\n",
    "        min_dist_node = -1\n",
    "\n",
    "        for v in range(num_nodes):\n",
    "            if not visited[v] and distances[v] < min_dist:\n",
    "                min_dist = distances[v]\n",
    "                min_dist_node = v\n",
    "\n",
    "        visited[min_dist_node] = True\n",
    "\n",
    "        for v in range(num_nodes):\n",
    "            if (\n",
    "                not visited[v]\n",
    "                and graph[min_dist_node][v] != 0\n",
    "                and distances[min_dist_node] + graph[min_dist_node][v] < distances[v]\n",
    "            ):\n",
    "                distances[v] = distances[min_dist_node] + graph[min_dist_node][v]\n",
    "\n",
    "    return distances\n",
    "\n",
    "# Example usage:\n",
    "graph = [\n",
    "    [0, 2, 0, 1],\n",
    "    [0, 0, 4, 0],\n",
    "    [0, 5, 0, 6],\n",
    "    [0, 0, 0, 0]\n",
    "]\n",
    "source = 0\n",
    "\n",
    "distances = dijkstra_shortest_paths(graph, source)\n",
    "print(distances)\n"
   ]
  },
  {
   "cell_type": "code",
   "execution_count": null,
   "id": "23396fab",
   "metadata": {},
   "outputs": [],
   "source": []
  }
 ],
 "metadata": {
  "kernelspec": {
   "display_name": "Python 3 (ipykernel)",
   "language": "python",
   "name": "python3"
  },
  "language_info": {
   "codemirror_mode": {
    "name": "ipython",
    "version": 3
   },
   "file_extension": ".py",
   "mimetype": "text/x-python",
   "name": "python",
   "nbconvert_exporter": "python",
   "pygments_lexer": "ipython3",
   "version": "3.11.1"
  }
 },
 "nbformat": 4,
 "nbformat_minor": 5
}
